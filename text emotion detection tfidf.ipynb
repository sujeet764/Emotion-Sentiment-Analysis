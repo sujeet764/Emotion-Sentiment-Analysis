{
 "cells": [
  {
   "cell_type": "code",
   "execution_count": 2,
   "metadata": {},
   "outputs": [],
   "source": [
    "import pandas as pd\n",
    "import numpy as np\n",
    "import nltk\n",
    "import re \n",
    "from collections import Counter\n",
    "from sklearn.model_selection import train_test_split\n",
    "from sklearn.metrics import accuracy_score\n",
    "from sklearn.svm import SVC\n",
    "from sklearn.svm import LinearSVC\n",
    "from sklearn.ensemble import RandomForestClassifier\n",
    "from sklearn.tree import DecisionTreeClassifier\n"
   ]
  },
  {
   "cell_type": "code",
   "execution_count": 3,
   "metadata": {},
   "outputs": [
    {
     "data": {
      "text/html": [
       "<div>\n",
       "<style scoped>\n",
       "    .dataframe tbody tr th:only-of-type {\n",
       "        vertical-align: middle;\n",
       "    }\n",
       "\n",
       "    .dataframe tbody tr th {\n",
       "        vertical-align: top;\n",
       "    }\n",
       "\n",
       "    .dataframe thead th {\n",
       "        text-align: right;\n",
       "    }\n",
       "</style>\n",
       "<table border=\"1\" class=\"dataframe\">\n",
       "  <thead>\n",
       "    <tr style=\"text-align: right;\">\n",
       "      <th></th>\n",
       "      <th>Text</th>\n",
       "      <th>Emotion</th>\n",
       "    </tr>\n",
       "  </thead>\n",
       "  <tbody>\n",
       "    <tr>\n",
       "      <th>0</th>\n",
       "      <td>During the period of falling in love, each tim...</td>\n",
       "      <td>joy</td>\n",
       "    </tr>\n",
       "    <tr>\n",
       "      <th>1</th>\n",
       "      <td>When I was involved in a traffic accident.</td>\n",
       "      <td>fear</td>\n",
       "    </tr>\n",
       "    <tr>\n",
       "      <th>2</th>\n",
       "      <td>When I was driving home after  several days of...</td>\n",
       "      <td>anger</td>\n",
       "    </tr>\n",
       "    <tr>\n",
       "      <th>3</th>\n",
       "      <td>When I lost the person who meant the most to me.</td>\n",
       "      <td>sadness</td>\n",
       "    </tr>\n",
       "    <tr>\n",
       "      <th>4</th>\n",
       "      <td>The time I knocked a deer down - the sight of ...</td>\n",
       "      <td>disgust</td>\n",
       "    </tr>\n",
       "    <tr>\n",
       "      <th>...</th>\n",
       "      <td>...</td>\n",
       "      <td>...</td>\n",
       "    </tr>\n",
       "    <tr>\n",
       "      <th>7475</th>\n",
       "      <td>Two years back someone invited me to be the tu...</td>\n",
       "      <td>anger</td>\n",
       "    </tr>\n",
       "    <tr>\n",
       "      <th>7476</th>\n",
       "      <td>I had taken the responsibility to do something...</td>\n",
       "      <td>sadness</td>\n",
       "    </tr>\n",
       "    <tr>\n",
       "      <th>7477</th>\n",
       "      <td>I was at home and I heard a loud sound of spit...</td>\n",
       "      <td>disgust</td>\n",
       "    </tr>\n",
       "    <tr>\n",
       "      <th>7478</th>\n",
       "      <td>I did not do the homework that the teacher had...</td>\n",
       "      <td>shame</td>\n",
       "    </tr>\n",
       "    <tr>\n",
       "      <th>7479</th>\n",
       "      <td>I had shouted at my younger brother and he was...</td>\n",
       "      <td>guilt</td>\n",
       "    </tr>\n",
       "  </tbody>\n",
       "</table>\n",
       "<p>7480 rows × 2 columns</p>\n",
       "</div>"
      ],
      "text/plain": [
       "                                                   Text  Emotion\n",
       "0     During the period of falling in love, each tim...      joy\n",
       "1            When I was involved in a traffic accident.     fear\n",
       "2     When I was driving home after  several days of...    anger\n",
       "3      When I lost the person who meant the most to me.  sadness\n",
       "4     The time I knocked a deer down - the sight of ...  disgust\n",
       "...                                                 ...      ...\n",
       "7475  Two years back someone invited me to be the tu...    anger\n",
       "7476  I had taken the responsibility to do something...  sadness\n",
       "7477  I was at home and I heard a loud sound of spit...  disgust\n",
       "7478  I did not do the homework that the teacher had...    shame\n",
       "7479  I had shouted at my younger brother and he was...    guilt\n",
       "\n",
       "[7480 rows x 2 columns]"
      ]
     },
     "execution_count": 3,
     "metadata": {},
     "output_type": "execute_result"
    }
   ],
   "source": [
    "data = pd.read_csv(\"Text_Data.csv\")\n",
    "data"
   ]
  },
  {
   "cell_type": "code",
   "execution_count": 4,
   "metadata": {},
   "outputs": [],
   "source": [
    "import nltk\n",
    "import string\n",
    "from nltk.corpus import stopwords\n",
    "from sklearn.feature_extraction.text import TfidfVectorizer\n",
    "from nltk.stem import WordNetLemmatizer\n",
    "#Object of WordNetLemmatizer\n",
    "lemmatizer = WordNetLemmatizer()\n",
    "def text_process(text):\n",
    "    no_punc = [char for char in text if char not in string.punctuation]\n",
    "    no_punc = \"\".join(no_punc)\n",
    "    no_punc = [lemmatizer.lemmatize(word) for word in no_punc.split() if word not in stopwords.words(\"english\")]\n",
    "    no_punc  = \" \".join(no_punc)\n",
    "    return no_punc\n",
    "data[\"Text2\"] = data[\"Text\"].apply(text_process)\n"
   ]
  },
  {
   "cell_type": "code",
   "execution_count": 6,
   "metadata": {},
   "outputs": [],
   "source": [
    "# data.to_csv(\"ProcessedData.csv\")"
   ]
  },
  {
   "cell_type": "code",
   "execution_count": 5,
   "metadata": {},
   "outputs": [
    {
     "data": {
      "text/html": [
       "<div>\n",
       "<style scoped>\n",
       "    .dataframe tbody tr th:only-of-type {\n",
       "        vertical-align: middle;\n",
       "    }\n",
       "\n",
       "    .dataframe tbody tr th {\n",
       "        vertical-align: top;\n",
       "    }\n",
       "\n",
       "    .dataframe thead th {\n",
       "        text-align: right;\n",
       "    }\n",
       "</style>\n",
       "<table border=\"1\" class=\"dataframe\">\n",
       "  <thead>\n",
       "    <tr style=\"text-align: right;\">\n",
       "      <th></th>\n",
       "      <th>Text</th>\n",
       "      <th>Emotion</th>\n",
       "      <th>Text2</th>\n",
       "    </tr>\n",
       "  </thead>\n",
       "  <tbody>\n",
       "    <tr>\n",
       "      <th>0</th>\n",
       "      <td>During the period of falling in love, each tim...</td>\n",
       "      <td>joy</td>\n",
       "      <td>During period falling love time met especially...</td>\n",
       "    </tr>\n",
       "    <tr>\n",
       "      <th>1</th>\n",
       "      <td>When I was involved in a traffic accident.</td>\n",
       "      <td>fear</td>\n",
       "      <td>When I involved traffic accident</td>\n",
       "    </tr>\n",
       "    <tr>\n",
       "      <th>2</th>\n",
       "      <td>When I was driving home after  several days of...</td>\n",
       "      <td>anger</td>\n",
       "      <td>When I driving home several day hard work moto...</td>\n",
       "    </tr>\n",
       "    <tr>\n",
       "      <th>3</th>\n",
       "      <td>When I lost the person who meant the most to me.</td>\n",
       "      <td>sadness</td>\n",
       "      <td>When I lost person meant</td>\n",
       "    </tr>\n",
       "    <tr>\n",
       "      <th>4</th>\n",
       "      <td>The time I knocked a deer down - the sight of ...</td>\n",
       "      <td>disgust</td>\n",
       "      <td>The time I knocked deer sight animal injury he...</td>\n",
       "    </tr>\n",
       "  </tbody>\n",
       "</table>\n",
       "</div>"
      ],
      "text/plain": [
       "                                                Text  Emotion  \\\n",
       "0  During the period of falling in love, each tim...      joy   \n",
       "1         When I was involved in a traffic accident.     fear   \n",
       "2  When I was driving home after  several days of...    anger   \n",
       "3   When I lost the person who meant the most to me.  sadness   \n",
       "4  The time I knocked a deer down - the sight of ...  disgust   \n",
       "\n",
       "                                               Text2  \n",
       "0  During period falling love time met especially...  \n",
       "1                   When I involved traffic accident  \n",
       "2  When I driving home several day hard work moto...  \n",
       "3                           When I lost person meant  \n",
       "4  The time I knocked deer sight animal injury he...  "
      ]
     },
     "execution_count": 5,
     "metadata": {},
     "output_type": "execute_result"
    }
   ],
   "source": [
    "data.head()"
   ]
  },
  {
   "cell_type": "code",
   "execution_count": 7,
   "metadata": {},
   "outputs": [],
   "source": [
    "\n",
    "from sklearn.model_selection import train_test_split\n",
    "X_train, X_test, y_train, y_test = train_test_split(data[\"Text2\"], data['Emotion'], test_size = 0.20, random_state = 121)\n",
    "\n",
    "def train_test(clf, X_train, X_test, y_train, y_test):\n",
    "    clf.fit(X_train, y_train)\n",
    "    train_acc = accuracy_score(y_train, clf.predict(X_train))\n",
    "    test_acc = accuracy_score(y_test, clf.predict(X_test))\n",
    "    return train_acc, test_acc\n"
   ]
  },
  {
   "cell_type": "code",
   "execution_count": 8,
   "metadata": {},
   "outputs": [],
   "source": [
    "from sklearn.feature_extraction.text import TfidfVectorizer\n",
    "tfVect = TfidfVectorizer()\n",
    "X_train = tfVect.fit_transform(X_train)\n",
    "X_test = tfVect.transform(X_test)"
   ]
  },
  {
   "cell_type": "code",
   "execution_count": 10,
   "metadata": {},
   "outputs": [
    {
     "data": {
      "application/javascript": "\n        if (window._pyforest_update_imports_cell) { window._pyforest_update_imports_cell('import pickle'); }\n    ",
      "text/plain": [
       "<IPython.core.display.Javascript object>"
      ]
     },
     "metadata": {},
     "output_type": "display_data"
    }
   ],
   "source": [
    "# with open(\"tfDict.pickle\",\"wb\") as dic:\n",
    "#     pickle.dump(tfVect,dic)"
   ]
  },
  {
   "cell_type": "code",
   "execution_count": 11,
   "metadata": {},
   "outputs": [
    {
     "name": "stdout",
     "output_type": "stream",
     "text": [
      "| Classifier                | Training Accuracy | Test Accuracy |\n",
      "| ------------------------- | ----------------- | ------------- |\n",
      "| SVC                       |         0.9767714 |     0.5855615 |\n"
     ]
    }
   ],
   "source": [
    "from sklearn.naive_bayes import MultinomialNB\n",
    "from sklearn.calibration import CalibratedClassifierCV\n",
    "\n",
    "svc = SVC(probability=True)\n",
    "# lsvc = LinearSVC(random_state=123)\n",
    "# lsvc = CalibratedClassifierCV(lsvc)\n",
    "# rforest = RandomForestClassifier(random_state=123)\n",
    "# mnb = MultinomialNB()\n",
    "# dtree = DecisionTreeClassifier()\n",
    "\n",
    "clifs = [svc]#,rforest, lsvc, rforest]# dtree]\n",
    "\n",
    "# train and test them \n",
    "print(\"| {:25} | {} | {} |\".format(\"Classifier\", \"Training Accuracy\", \"Test Accuracy\"))\n",
    "print(\"| {} | {} | {} |\".format(\"-\"*25, \"-\"*17, \"-\"*13))\n",
    "for clf in clifs: \n",
    "    clf_name = clf.__class__.__name__\n",
    "    train_acc, test_acc = train_test(clf, X_train, X_test, y_train, y_test)\n",
    "    print(\"| {:25} | {:17.7f} | {:13.7f} |\".format(clf_name, train_acc, test_acc))"
   ]
  },
  {
   "cell_type": "code",
   "execution_count": 551,
   "metadata": {},
   "outputs": [],
   "source": [
    "# import pickle\n",
    "# with open(\"TextEmotionSVC.h5\" ,\"wb\") as model:\n",
    "#     pickle.dump(clf,model)"
   ]
  },
  {
   "cell_type": "code",
   "execution_count": 12,
   "metadata": {},
   "outputs": [
    {
     "name": "stdout",
     "output_type": "stream",
     "text": [
      "              precision    recall  f1-score   support\n",
      "\n",
      "       anger       0.44      0.54      0.49       232\n",
      "     disgust       0.55      0.62      0.58       206\n",
      "        fear       0.70      0.70      0.70       211\n",
      "       guilt       0.47      0.50      0.48       202\n",
      "         joy       0.73      0.71      0.72       214\n",
      "     sadness       0.71      0.63      0.66       210\n",
      "       shame       0.57      0.41      0.48       221\n",
      "\n",
      "    accuracy                           0.59      1496\n",
      "   macro avg       0.59      0.59      0.59      1496\n",
      "weighted avg       0.59      0.59      0.59      1496\n",
      "\n"
     ]
    }
   ],
   "source": [
    "from sklearn.metrics import classification_report, confusion_matrix\n",
    "print(classification_report(y_test,clf.predict(X_test)))"
   ]
  },
  {
   "cell_type": "code",
   "execution_count": 15,
   "metadata": {},
   "outputs": [],
   "source": [
    "import pickle\n",
    "import nltk\n",
    "import string\n",
    "from nltk.corpus import stopwords\n",
    "import numpy as np\n",
    "from sklearn.feature_extraction.text import TfidfVectorizer\n",
    "from nltk.stem import WordNetLemmatizer\n",
    "\n",
    "#Object of WordNetLemmatizer\n",
    "lemmatizer = WordNetLemmatizer()\n",
    "def text_process(text):\n",
    "    no_punc = [char for char in text if char not in string.punctuation]\n",
    "    no_punc = \"\".join(no_punc)\n",
    "    no_punc = [lemmatizer.lemmatize(word) for word in no_punc.split() if word not in stopwords.words(\"english\")]\n",
    "    no_punc  = \" \".join(no_punc)\n",
    "    return no_punc\n",
    "    \n",
    "def textEmotions(text):\n",
    "    with open(\"TextEmotionSVC.h5\", 'rb') as model:\n",
    "        clf = pickle.load(model)\n",
    "\n",
    "    with open(\"tfDict.pickle\", 'rb') as tfdict:\n",
    "        tfVect = pickle.load(tfdict)\n",
    "    \n",
    "    output = []\n",
    "    emoji_dict = {\"joy\":\"😂\", \"fear\":\"😱\", \"anger\":\"😠\", \"sadness\":\"😢\", \"disgust\":\"😒\", \"shame\":\"😳\", \"guilt\":\"😳\"}\n",
    "    emotions = [\"joy\", 'fear', \"anger\", \"sadness\", \"disgust\", \"shame\", \"guilt\"]\n",
    "    emotions.sort()\n",
    "\n",
    "    features = tfVect.transform([text])\n",
    "    prediction_prob = clf.predict_proba(features)[0]\n",
    "    prediction = clf.predict(features)[0]\n",
    "    #print(text)\n",
    "    #print(\"-\"*148)\n",
    "    # print(emoji_dict[prediction], prediction)\n",
    "    # print(\"-\"*148)\n",
    "    for i in range(len(prediction_prob)):\n",
    "        #print(emotions[i],np.round(prediction_prob[i],3))        \n",
    "        output.append([emotions[i],np.round(prediction_prob[i],3)])\n",
    "    return(output)"
   ]
  },
  {
   "cell_type": "code",
   "execution_count": 4,
   "metadata": {},
   "outputs": [
    {
     "name": "stdout",
     "output_type": "stream",
     "text": [
      "He gave word greeting first regiment roared Hurrah deafeningly continuously joyfully men awed multitude immensity power constituted\n",
      "----------------------------------------------------------------------------------------------------------------------------------------------------\n",
      "anger 0.058\n",
      "disgust 0.144\n",
      "fear 0.1\n",
      "guilt 0.052\n",
      "joy 0.524\n",
      "sadness 0.065\n",
      "shame 0.059\n"
     ]
    }
   ],
   "source": [
    "text = \"\"\"He gave the words of greeting, and the first regiment roared \"Hurrah!\" so deafeningly, continuously, \n",
    "and joyfully that the men themselves were awed by their multitude and the immensity of the power they constituted.\"\"\"\n",
    "text = text_process(text)\n",
    "Emotionpred = textEmotions(text)"
   ]
  }
 ],
 "metadata": {
  "interpreter": {
   "hash": "6c3c262e5e746fc36a84c8fc26de70e5ffd694d61699d110ab922ea85a1de8cc"
  },
  "kernelspec": {
   "display_name": "Python 3.9.7 ('base')",
   "language": "python",
   "name": "python3"
  },
  "language_info": {
   "codemirror_mode": {
    "name": "ipython",
    "version": 3
   },
   "file_extension": ".py",
   "mimetype": "text/x-python",
   "name": "python",
   "nbconvert_exporter": "python",
   "pygments_lexer": "ipython3",
   "version": "3.9.7"
  },
  "orig_nbformat": 4
 },
 "nbformat": 4,
 "nbformat_minor": 2
}
