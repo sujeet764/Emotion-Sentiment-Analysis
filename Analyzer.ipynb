{
 "cells": [
  {
   "cell_type": "code",
   "execution_count": 1,
   "metadata": {},
   "outputs": [],
   "source": [
    "import pickle\n",
    "import string\n",
    "from nltk.corpus import stopwords\n",
    "import numpy as np\n",
    "from sklearn.feature_extraction.text import TfidfVectorizer\n",
    "from nltk.stem import WordNetLemmatizer\n",
    "lemmatizer = WordNetLemmatizer()\n",
    "class textAnalyzer():\n",
    "    def __init__(self,text):\n",
    "        self.text = text\n",
    "\n",
    "    def text_process(text):\n",
    "            no_punc = [char for char in text if char not in string.punctuation]\n",
    "            no_punc = \"\".join(no_punc)\n",
    "            no_punc = [lemmatizer.lemmatize(word) for word in no_punc.split() if word not in stopwords.words(\"english\")]\n",
    "            no_punc  = \" \".join(no_punc)\n",
    "            return no_punc\n",
    "\n",
    "    def textEmotion(self):\n",
    "        with open(\"TextEmotionSVC.h5\", 'rb') as model:\n",
    "            clf = pickle.load(model)\n",
    "\n",
    "        with open(\"tfDict.pickle\", 'rb') as tfdict:\n",
    "            tfVect = pickle.load(tfdict)\n",
    "        \n",
    "        output = []\n",
    "        #emoji_dict = {\"joy\":\"😂\", \"fear\":\"😱\", \"anger\":\"😠\", \"sadness\":\"😢\", \"disgust\":\"😒\", \"shame\":\"😳\", \"guilt\":\"😳\"}\n",
    "        emotions = [\"joy\", 'fear', \"anger\", \"sadness\", \"disgust\", \"shame\", \"guilt\"]\n",
    "        emotions.sort()\n",
    "        features = tfVect.transform([self.text])\n",
    "        prediction_prob = clf.predict_proba(features)[0]\n",
    "        prediction = clf.predict(features)[0]\n",
    "        for i in range(len(prediction_prob)):       \n",
    "            output.append([emotions[i],np.round(prediction_prob[i],3)])\n",
    "        return(output)\n",
    "    \n",
    "    def textSentiment(self,textProcess = False):\n",
    "        with open(\"SentimentLSVC.h5\", 'rb') as model:\n",
    "            clf = pickle.load(model)\n",
    "\n",
    "        with open(\"sentimentTFdict.h5\", 'rb') as tfdict:\n",
    "            tfVect = pickle.load(tfdict)\n",
    "        \n",
    "        output = []\n",
    "        emotions = [\"Negative\",\"Neutral\",\"Positive\"]\n",
    "        emotions.sort()\n",
    "        if(textProcess):\n",
    "            self.text = text_process(self.text)\n",
    "        features = tfVect.transform([self.text])\n",
    "        prediction_prob = clf.predict_proba(features)[0]\n",
    "        prediction = clf.predict(features)[0]\n",
    "        # print(\"-\"*148)\n",
    "        # print(prediction)\n",
    "        for i in range(len(prediction_prob)):\n",
    "            #print(emotions[i],np.round(prediction_prob[i],3))        \n",
    "            output.append([emotions[i],np.round(prediction_prob[i],3)])\n",
    "        return(output)\n",
    "\n",
    "\n"
   ]
  },
  {
   "cell_type": "code",
   "execution_count": null,
   "metadata": {},
   "outputs": [],
   "source": []
  }
 ],
 "metadata": {
  "interpreter": {
   "hash": "6c3c262e5e746fc36a84c8fc26de70e5ffd694d61699d110ab922ea85a1de8cc"
  },
  "kernelspec": {
   "display_name": "Python 3.9.7 ('base')",
   "language": "python",
   "name": "python3"
  },
  "language_info": {
   "codemirror_mode": {
    "name": "ipython",
    "version": 3
   },
   "file_extension": ".py",
   "mimetype": "text/x-python",
   "name": "python",
   "nbconvert_exporter": "python",
   "pygments_lexer": "ipython3",
   "version": "3.9.7"
  },
  "orig_nbformat": 4
 },
 "nbformat": 4,
 "nbformat_minor": 2
}
